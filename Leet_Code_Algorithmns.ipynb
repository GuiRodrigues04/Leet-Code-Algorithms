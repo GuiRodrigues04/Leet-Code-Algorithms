{
  "nbformat": 4,
  "nbformat_minor": 0,
  "metadata": {
    "colab": {
      "provenance": [],
      "authorship_tag": "ABX9TyOhjJ8xoowtCZSMq5Cz7Jdf",
      "include_colab_link": true
    },
    "kernelspec": {
      "name": "python3",
      "display_name": "Python 3"
    },
    "language_info": {
      "name": "python"
    }
  },
  "cells": [
    {
      "cell_type": "markdown",
      "metadata": {
        "id": "view-in-github",
        "colab_type": "text"
      },
      "source": [
        "<a href=\"https://colab.research.google.com/github/GuiRodrigues04/Leet-Code-Algorithms/blob/main/Leet_Code_Algorithmns.ipynb\" target=\"_parent\"><img src=\"https://colab.research.google.com/assets/colab-badge.svg\" alt=\"Open In Colab\"/></a>"
      ]
    },
    {
      "cell_type": "markdown",
      "source": [
        "@title\n",
        "# Test function\n",
        "Here i will create a test function that will use a dictionary with values of inputs and expected outputs to test my functions\n",
        "\n",
        "\n",
        "The function named **Algorithmn_test** needs two parameters: Function and dictionary. Both you create during the process of solving the problem. The dictionary needs to be in this format:\n",
        "\n",
        "\n",
        "```\n",
        "Tests = {\n",
        "    'Test1':{\"input\":0, \"output\": 'true' },\n",
        "    'Test2':{\"input\":34, \"output\": 'false'},\n",
        "    'Test3': {\"input\":-4, \"output\": 'false' }\n",
        "         }\n",
        "```\n",
        "The \"Test\" key doesnt matter. We just need the key of \"input\" and \"output\" right.\n",
        "\n",
        "### Algorithmn_test(dictionary, function)\n"
      ],
      "metadata": {
        "id": "sT1RXt1o-r3S"
      }
    },
    {
      "cell_type": "code",
      "source": [
        "\n",
        "def Algorithmn_test(dictionary, function):\n",
        "  function_outputs = []\n",
        "  function_expected_outputs = []\n",
        "  incorrect_items = []\n",
        "  correct_aswers = 0\n",
        "  total_questions = 0\n",
        "  for item in dictionary:\n",
        "    function_outputs.append(function(dictionary[item]['input']))\n",
        "    function_expected_outputs.append(dictionary[item]['output'])\n",
        "    total_questions += 1\n",
        "  b = 0\n",
        "  for i in function_outputs:\n",
        "    if i == function_expected_outputs[b]:\n",
        "      value = 'CORRECT'\n",
        "      correct_aswers += 1\n",
        "    else:\n",
        "      incorrect_items.append(f'item{b+1}')\n",
        "      value = 'INCORRECT'\n",
        "    print(f'Item{b + 1} is {value}\\n expected output: {function_expected_outputs[b]} \\n output given: {function_outputs[b]}')\n",
        "    print('\\n-----------------------------\\n')\n",
        "    b += 1\n",
        "\n",
        "  if len(incorrect_items) == 0:\n",
        "    incorrect_items = None\n",
        "  efficiency = correct_aswers * 100 / total_questions\n",
        "  efficiency = round(efficiency, 2)\n",
        "  print(f'efficiency: {efficiency}%, incorrect items: {incorrect_items}')\n",
        "  return\n"
      ],
      "metadata": {
        "id": "Z1mtnU5B-pQT"
      },
      "execution_count": 1,
      "outputs": []
    },
    {
      "cell_type": "markdown",
      "source": [
        "# Palindrome Number\n",
        "[Problem link (leet code)](https://leetcode.com/problems/palindrome-number/)"
      ],
      "metadata": {
        "id": "mHey27Ie6yMP"
      }
    },
    {
      "cell_type": "markdown",
      "source": [
        "##### test dictionary"
      ],
      "metadata": {
        "id": "2f5nJg9Aa6RJ"
      }
    },
    {
      "cell_type": "code",
      "source": [
        "Tests_palin = {\n",
        "    'Test1':{\"input\":0, \"output\": 'true' },\n",
        "    'Test2':{\"input\":34, \"output\": 'false'},\n",
        "    'Test3': {\"input\":-4, \"output\": 'false' },\n",
        "    'Test4': {\"input\":-121, \"output\": 'false' }\n",
        "         }"
      ],
      "metadata": {
        "id": "c4sKhmpTa3hS"
      },
      "execution_count": 39,
      "outputs": []
    },
    {
      "cell_type": "markdown",
      "source": [
        "\n",
        "#### transorming x into a str\n",
        "- tranforme x into a str\n",
        "- compare if x equal to x inverted.\n"
      ],
      "metadata": {
        "id": "iF3FYY--UfY5"
      }
    },
    {
      "cell_type": "code",
      "execution_count": 43,
      "metadata": {
        "id": "LL1ZQzgr82mh",
        "colab": {
          "base_uri": "https://localhost:8080/"
        },
        "outputId": "28617f5a-7565-48dc-cf6b-797abad637d0"
      },
      "outputs": [
        {
          "output_type": "stream",
          "name": "stdout",
          "text": [
            "Item1 is CORRECT\n",
            " expected output: true \n",
            " output given: true\n",
            "\n",
            "-----------------------------\n",
            "\n",
            "Item2 is CORRECT\n",
            " expected output: false \n",
            " output given: false\n",
            "\n",
            "-----------------------------\n",
            "\n",
            "Item3 is CORRECT\n",
            " expected output: false \n",
            " output given: false\n",
            "\n",
            "-----------------------------\n",
            "\n",
            "Item4 is CORRECT\n",
            " expected output: false \n",
            " output given: false\n",
            "\n",
            "-----------------------------\n",
            "\n",
            "efficiency: 100.0%, incorrect items: None\n"
          ]
        }
      ],
      "source": [
        "def isPalindrom1(x: int):\n",
        "  x = str(x)\n",
        "  if x == x[::-1]:\n",
        "    return 'true'\n",
        "  else:\n",
        "    return 'false'\n",
        "\n",
        "Algorithmn_test(Tests_palin, isPalindrom1)"
      ]
    },
    {
      "cell_type": "markdown",
      "source": [
        "#### Not transforming x into a str"
      ],
      "metadata": {
        "id": "Zer1FFc_cSrd"
      }
    },
    {
      "cell_type": "code",
      "source": [
        "def isPalindrom2(x:int):\n",
        "  if x < 0:\n",
        "    return 'false'\n",
        "  y = 1\n",
        "  power_of_10 = 0\n",
        "  while (x // y) > 9:\n",
        "    y *= 10\n",
        "    power_of_10 += 1\n",
        "  algorithmns = []\n",
        "  while power_of_10 >= 0:\n",
        "    n = x // (10 ** power_of_10)\n",
        "    algorithmns.append(x // (10 ** power_of_10))\n",
        "    x = x - (n * ( 10 **power_of_10))\n",
        "    power_of_10 -= 1\n",
        "  if algorithmns == algorithmns[::-1]: return 'true'\n",
        "  else: return 'false'"
      ],
      "metadata": {
        "id": "62-VpQ43CW7T"
      },
      "execution_count": 41,
      "outputs": []
    },
    {
      "cell_type": "code",
      "source": [
        "Algorithmn_test(Tests_palin, isPalindrom2)"
      ],
      "metadata": {
        "id": "dCyAWGgRcwKz",
        "colab": {
          "base_uri": "https://localhost:8080/"
        },
        "outputId": "c3922ba4-3e9a-4966-9fc6-81e831b55f63"
      },
      "execution_count": 42,
      "outputs": [
        {
          "output_type": "stream",
          "name": "stdout",
          "text": [
            "Item1 is CORRECT\n",
            " expected output: true \n",
            " output given: true\n",
            "\n",
            "-----------------------------\n",
            "\n",
            "Item2 is CORRECT\n",
            " expected output: false \n",
            " output given: false\n",
            "\n",
            "-----------------------------\n",
            "\n",
            "Item3 is CORRECT\n",
            " expected output: false \n",
            " output given: false\n",
            "\n",
            "-----------------------------\n",
            "\n",
            "Item4 is CORRECT\n",
            " expected output: false \n",
            " output given: false\n",
            "\n",
            "-----------------------------\n",
            "\n",
            "efficiency: 100.0%, incorrect items: None\n"
          ]
        }
      ]
    },
    {
      "cell_type": "code",
      "source": [
        "9 % 10"
      ],
      "metadata": {
        "colab": {
          "base_uri": "https://localhost:8080/"
        },
        "id": "RmMWW9KP4boC",
        "outputId": "ec653246-40cc-4e80-8f1c-e12759dea684"
      },
      "execution_count": 48,
      "outputs": [
        {
          "output_type": "execute_result",
          "data": {
            "text/plain": [
              "9"
            ]
          },
          "metadata": {},
          "execution_count": 48
        }
      ]
    },
    {
      "cell_type": "code",
      "source": [],
      "metadata": {
        "id": "2CEM2c97E84S"
      },
      "execution_count": null,
      "outputs": []
    }
  ]
}