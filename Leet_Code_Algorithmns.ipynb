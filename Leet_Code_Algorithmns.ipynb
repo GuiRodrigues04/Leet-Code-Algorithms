{
  "nbformat": 4,
  "nbformat_minor": 0,
  "metadata": {
    "colab": {
      "provenance": [],
      "toc_visible": true,
      "authorship_tag": "ABX9TyPNRnIZHFiB7QQyzfzJd0mw",
      "include_colab_link": true
    },
    "kernelspec": {
      "name": "python3",
      "display_name": "Python 3"
    },
    "language_info": {
      "name": "python"
    }
  },
  "cells": [
    {
      "cell_type": "markdown",
      "metadata": {
        "id": "view-in-github",
        "colab_type": "text"
      },
      "source": [
        "<a href=\"https://colab.research.google.com/github/GuiRodrigues04/Leet-Code-Algorithms/blob/main/Leet_Code_Algorithmns.ipynb\" target=\"_parent\"><img src=\"https://colab.research.google.com/assets/colab-badge.svg\" alt=\"Open In Colab\"/></a>"
      ]
    },
    {
      "cell_type": "code",
      "execution_count": 7,
      "metadata": {
        "id": "LL1ZQzgr82mh",
        "colab": {
          "base_uri": "https://localhost:8080/"
        },
        "outputId": "1a7d7068-8426-42fd-bab1-bc4d567b9c1b"
      },
      "outputs": [
        {
          "output_type": "stream",
          "name": "stdout",
          "text": [
            "100000001\n"
          ]
        }
      ],
      "source": [
        "print('ola tudo bem')"
      ]
    }
  ]
}