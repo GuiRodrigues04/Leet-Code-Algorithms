{
  "nbformat": 4,
  "nbformat_minor": 0,
  "metadata": {
    "colab": {
      "provenance": [],
      "toc_visible": true,
      "authorship_tag": "ABX9TyMjL7UeiK5Gv7ADO/8F3eeH",
      "include_colab_link": true
    },
    "kernelspec": {
      "name": "python3",
      "display_name": "Python 3"
    },
    "language_info": {
      "name": "python"
    }
  },
  "cells": [
    {
      "cell_type": "markdown",
      "metadata": {
        "id": "view-in-github",
        "colab_type": "text"
      },
      "source": [
        "<a href=\"https://colab.research.google.com/github/GuiRodrigues04/Leet-Code-Algorithms/blob/main/Leet_Code_Algorithmns.ipynb\" target=\"_parent\"><img src=\"https://colab.research.google.com/assets/colab-badge.svg\" alt=\"Open In Colab\"/></a>"
      ]
    },
    {
      "cell_type": "markdown",
      "source": [
        "@title\n",
        "# Test function\n",
        "Here i will create a test function that will use a dictionary with values of inputs and expected outputs to test my functions\n",
        "\n",
        "\n",
        "The function named **Algorithmn_test** needs two parameters: Function and dictionary. Both you create during the process of solving the problem. The dictionary needs to be in this format:\n",
        "\n",
        "\n",
        "```\n",
        "Tests = {\n",
        "    'Test1':{\"input\":0, \"output\": 'true' },\n",
        "    'Test2':{\"input\":34, \"output\": 'false'},\n",
        "    'Test3': {\"input\":-4, \"output\": 'false' }\n",
        "         }\n",
        "```\n",
        "The \"Test\" key doesnt matter. We just need the key of \"input\" and \"output\" right.\n",
        "\n",
        "### Algorithmn_test(dictionary, function)\n"
      ],
      "metadata": {
        "id": "sT1RXt1o-r3S"
      }
    },
    {
      "cell_type": "code",
      "source": [
        "\n",
        "def Algorithmn_test(dictionary, function):\n",
        "  function_outputs = []\n",
        "  function_expected_outputs = []\n",
        "  incorrect_items = []\n",
        "  correct_aswers = 0\n",
        "  total_questions = 0\n",
        "  for item in dictionary:\n",
        "    function_outputs.append(function(dictionary[item]['input']))\n",
        "    function_expected_outputs.append(dictionary[item]['output'])\n",
        "    total_questions += 1\n",
        "  b = 0\n",
        "  for i in function_outputs:\n",
        "    if i == function_expected_outputs[b]:\n",
        "      value = 'CORRECT'\n",
        "      correct_aswers += 1\n",
        "    else:\n",
        "      incorrect_items.append(f'item{b+1}')\n",
        "      value = 'INCORRECT'\n",
        "    print(f'Item{b + 1} is {value}\\n expected output: {function_expected_outputs[b]} \\n output given: {function_outputs[b]}')\n",
        "    print('\\n-----------------------------\\n')\n",
        "    b += 1\n",
        "\n",
        "  if len(incorrect_items) == 0:\n",
        "    incorrect_items = None\n",
        "  efficiency = correct_aswers * 100 / total_questions\n",
        "  efficiency = round(efficiency, 2)\n",
        "  print(f'efficiency: {efficiency}%, incorrect items: {incorrect_items}')\n",
        "  return\n"
      ],
      "metadata": {
        "id": "Z1mtnU5B-pQT"
      },
      "execution_count": 61,
      "outputs": []
    },
    {
      "cell_type": "markdown",
      "source": [
        "# Palindrome Number\n",
        "[Problem link (leet code)](https://leetcode.com/problems/palindrome-number/)"
      ],
      "metadata": {
        "id": "mHey27Ie6yMP"
      }
    },
    {
      "cell_type": "code",
      "source": [
        "  Tests_palin = {\n",
        "    'Test1':{\"input\":0, \"output\": 'true' },\n",
        "    'Test2':{\"input\":34, \"output\": 'false'},\n",
        "    'Test3': {\"input\":-4, \"output\": 'false' }\n",
        "         }"
      ],
      "metadata": {
        "id": "Z_CeMXBF-PWa"
      },
      "execution_count": 66,
      "outputs": []
    },
    {
      "cell_type": "code",
      "execution_count": 67,
      "metadata": {
        "id": "LL1ZQzgr82mh",
        "colab": {
          "base_uri": "https://localhost:8080/"
        },
        "outputId": "8bb272d2-4602-4413-dcbd-7ef02972a70e"
      },
      "outputs": [
        {
          "output_type": "stream",
          "name": "stdout",
          "text": [
            "Item1 is CORRECT\n",
            " expected output: true \n",
            " output given: true\n",
            "\n",
            "-----------------------------\n",
            "\n",
            "Item2 is CORRECT\n",
            " expected output: false \n",
            " output given: false\n",
            "\n",
            "-----------------------------\n",
            "\n",
            "Item3 is CORRECT\n",
            " expected output: false \n",
            " output given: false\n",
            "\n",
            "-----------------------------\n",
            "\n",
            "efficiency: 100.0%, incorrect items: None\n"
          ]
        }
      ],
      "source": [
        "def isPalindrome(x: int) -> bool:\n",
        "  y = str(x)\n",
        "  if y == y[::-1]:\n",
        "      return \"true\"\n",
        "  else:\n",
        "    return \"false\"\n",
        "\n",
        "Algorithmn_test(Tests_palin, isPalindrome)"
      ]
    },
    {
      "cell_type": "code",
      "source": [],
      "metadata": {
        "id": "62-VpQ43CW7T"
      },
      "execution_count": null,
      "outputs": []
    }
  ]
}